{
 "cells": [
  {
   "cell_type": "code",
   "execution_count": 105,
   "metadata": {},
   "outputs": [],
   "source": [
    "import pandas as pd\n",
    "import numpy\n",
    "import scipy"
   ]
  },
  {
   "cell_type": "code",
   "execution_count": 106,
   "metadata": {},
   "outputs": [],
   "source": [
    "df = pd.read_csv(\"./training.csv\")"
   ]
  },
  {
   "cell_type": "code",
   "execution_count": 108,
   "metadata": {},
   "outputs": [
    {
     "data": {
      "text/html": [
       "<div>\n",
       "<style scoped>\n",
       "    .dataframe tbody tr th:only-of-type {\n",
       "        vertical-align: middle;\n",
       "    }\n",
       "\n",
       "    .dataframe tbody tr th {\n",
       "        vertical-align: top;\n",
       "    }\n",
       "\n",
       "    .dataframe thead th {\n",
       "        text-align: right;\n",
       "    }\n",
       "</style>\n",
       "<table border=\"1\" class=\"dataframe\">\n",
       "  <thead>\n",
       "    <tr style=\"text-align: right;\">\n",
       "      <th></th>\n",
       "      <th>StoreNumber</th>\n",
       "      <th>dayOfTheYear</th>\n",
       "      <th>3HourBucket</th>\n",
       "      <th>GrossSoldQuantity</th>\n",
       "      <th>Cash/Credit Site</th>\n",
       "      <th>EBT Site</th>\n",
       "      <th>Loyalty Site</th>\n",
       "      <th>ExtraMile Site</th>\n",
       "      <th>CoBrand</th>\n",
       "      <th>Alcohol</th>\n",
       "      <th>Carwash</th>\n",
       "      <th>Food Service</th>\n",
       "      <th>City</th>\n",
       "      <th>State</th>\n",
       "      <th>Day of week</th>\n",
       "    </tr>\n",
       "  </thead>\n",
       "  <tbody>\n",
       "    <tr>\n",
       "      <th>0</th>\n",
       "      <td>1000</td>\n",
       "      <td>1</td>\n",
       "      <td>1</td>\n",
       "      <td>3</td>\n",
       "      <td>False</td>\n",
       "      <td>True</td>\n",
       "      <td>True</td>\n",
       "      <td>True</td>\n",
       "      <td>No</td>\n",
       "      <td>True</td>\n",
       "      <td>False</td>\n",
       "      <td>True</td>\n",
       "      <td>HOUSTON</td>\n",
       "      <td>TX</td>\n",
       "      <td>2</td>\n",
       "    </tr>\n",
       "    <tr>\n",
       "      <th>1</th>\n",
       "      <td>1000</td>\n",
       "      <td>1</td>\n",
       "      <td>2</td>\n",
       "      <td>5</td>\n",
       "      <td>False</td>\n",
       "      <td>True</td>\n",
       "      <td>True</td>\n",
       "      <td>True</td>\n",
       "      <td>No</td>\n",
       "      <td>True</td>\n",
       "      <td>False</td>\n",
       "      <td>True</td>\n",
       "      <td>HOUSTON</td>\n",
       "      <td>TX</td>\n",
       "      <td>2</td>\n",
       "    </tr>\n",
       "    <tr>\n",
       "      <th>2</th>\n",
       "      <td>1000</td>\n",
       "      <td>1</td>\n",
       "      <td>3</td>\n",
       "      <td>6</td>\n",
       "      <td>False</td>\n",
       "      <td>True</td>\n",
       "      <td>True</td>\n",
       "      <td>True</td>\n",
       "      <td>No</td>\n",
       "      <td>True</td>\n",
       "      <td>False</td>\n",
       "      <td>True</td>\n",
       "      <td>HOUSTON</td>\n",
       "      <td>TX</td>\n",
       "      <td>2</td>\n",
       "    </tr>\n",
       "    <tr>\n",
       "      <th>3</th>\n",
       "      <td>1000</td>\n",
       "      <td>1</td>\n",
       "      <td>4</td>\n",
       "      <td>3</td>\n",
       "      <td>False</td>\n",
       "      <td>True</td>\n",
       "      <td>True</td>\n",
       "      <td>True</td>\n",
       "      <td>No</td>\n",
       "      <td>True</td>\n",
       "      <td>False</td>\n",
       "      <td>True</td>\n",
       "      <td>HOUSTON</td>\n",
       "      <td>TX</td>\n",
       "      <td>2</td>\n",
       "    </tr>\n",
       "    <tr>\n",
       "      <th>4</th>\n",
       "      <td>1000</td>\n",
       "      <td>2</td>\n",
       "      <td>1</td>\n",
       "      <td>13</td>\n",
       "      <td>False</td>\n",
       "      <td>True</td>\n",
       "      <td>True</td>\n",
       "      <td>True</td>\n",
       "      <td>No</td>\n",
       "      <td>True</td>\n",
       "      <td>False</td>\n",
       "      <td>True</td>\n",
       "      <td>HOUSTON</td>\n",
       "      <td>TX</td>\n",
       "      <td>3</td>\n",
       "    </tr>\n",
       "  </tbody>\n",
       "</table>\n",
       "</div>"
      ],
      "text/plain": [
       "   StoreNumber  dayOfTheYear  3HourBucket  GrossSoldQuantity  \\\n",
       "0         1000             1            1                  3   \n",
       "1         1000             1            2                  5   \n",
       "2         1000             1            3                  6   \n",
       "3         1000             1            4                  3   \n",
       "4         1000             2            1                 13   \n",
       "\n",
       "   Cash/Credit Site  EBT Site  Loyalty Site  ExtraMile Site CoBrand  Alcohol  \\\n",
       "0             False      True          True            True      No     True   \n",
       "1             False      True          True            True      No     True   \n",
       "2             False      True          True            True      No     True   \n",
       "3             False      True          True            True      No     True   \n",
       "4             False      True          True            True      No     True   \n",
       "\n",
       "   Carwash  Food Service     City State  Day of week  \n",
       "0    False          True  HOUSTON    TX            2  \n",
       "1    False          True  HOUSTON    TX            2  \n",
       "2    False          True  HOUSTON    TX            2  \n",
       "3    False          True  HOUSTON    TX            2  \n",
       "4    False          True  HOUSTON    TX            3  "
      ]
     },
     "execution_count": 108,
     "metadata": {},
     "output_type": "execute_result"
    }
   ],
   "source": [
    "df.head()"
   ]
  },
  {
   "cell_type": "code",
   "execution_count": 109,
   "metadata": {
    "scrolled": true
   },
   "outputs": [
    {
     "data": {
      "text/plain": [
       "(5660, 15)"
      ]
     },
     "execution_count": 109,
     "metadata": {},
     "output_type": "execute_result"
    }
   ],
   "source": [
    "df.shape"
   ]
  },
  {
   "cell_type": "code",
   "execution_count": 110,
   "metadata": {},
   "outputs": [
    {
     "data": {
      "text/html": [
       "<div>\n",
       "<style scoped>\n",
       "    .dataframe tbody tr th:only-of-type {\n",
       "        vertical-align: middle;\n",
       "    }\n",
       "\n",
       "    .dataframe tbody tr th {\n",
       "        vertical-align: top;\n",
       "    }\n",
       "\n",
       "    .dataframe thead th {\n",
       "        text-align: right;\n",
       "    }\n",
       "</style>\n",
       "<table border=\"1\" class=\"dataframe\">\n",
       "  <thead>\n",
       "    <tr style=\"text-align: right;\">\n",
       "      <th></th>\n",
       "      <th>StoreNumber</th>\n",
       "      <th>dayOfTheYear</th>\n",
       "      <th>3HourBucket</th>\n",
       "      <th>GrossSoldQuantity</th>\n",
       "      <th>Day of week</th>\n",
       "    </tr>\n",
       "  </thead>\n",
       "  <tbody>\n",
       "    <tr>\n",
       "      <th>count</th>\n",
       "      <td>5660.000000</td>\n",
       "      <td>5660.000000</td>\n",
       "      <td>5660.000000</td>\n",
       "      <td>5660.000000</td>\n",
       "      <td>5660.000000</td>\n",
       "    </tr>\n",
       "    <tr>\n",
       "      <th>mean</th>\n",
       "      <td>2500.706714</td>\n",
       "      <td>181.631449</td>\n",
       "      <td>2.504240</td>\n",
       "      <td>22.690989</td>\n",
       "      <td>4.007774</td>\n",
       "    </tr>\n",
       "    <tr>\n",
       "      <th>std</th>\n",
       "      <td>1118.132545</td>\n",
       "      <td>104.530966</td>\n",
       "      <td>1.115276</td>\n",
       "      <td>22.281150</td>\n",
       "      <td>1.992017</td>\n",
       "    </tr>\n",
       "    <tr>\n",
       "      <th>min</th>\n",
       "      <td>1000.000000</td>\n",
       "      <td>1.000000</td>\n",
       "      <td>1.000000</td>\n",
       "      <td>0.000000</td>\n",
       "      <td>1.000000</td>\n",
       "    </tr>\n",
       "    <tr>\n",
       "      <th>25%</th>\n",
       "      <td>2000.000000</td>\n",
       "      <td>91.000000</td>\n",
       "      <td>2.000000</td>\n",
       "      <td>5.000000</td>\n",
       "      <td>2.000000</td>\n",
       "    </tr>\n",
       "    <tr>\n",
       "      <th>50%</th>\n",
       "      <td>2500.000000</td>\n",
       "      <td>181.000000</td>\n",
       "      <td>3.000000</td>\n",
       "      <td>13.000000</td>\n",
       "      <td>4.000000</td>\n",
       "    </tr>\n",
       "    <tr>\n",
       "      <th>75%</th>\n",
       "      <td>4000.000000</td>\n",
       "      <td>272.000000</td>\n",
       "      <td>3.000000</td>\n",
       "      <td>36.000000</td>\n",
       "      <td>6.000000</td>\n",
       "    </tr>\n",
       "    <tr>\n",
       "      <th>max</th>\n",
       "      <td>4000.000000</td>\n",
       "      <td>363.000000</td>\n",
       "      <td>4.000000</td>\n",
       "      <td>184.000000</td>\n",
       "      <td>7.000000</td>\n",
       "    </tr>\n",
       "  </tbody>\n",
       "</table>\n",
       "</div>"
      ],
      "text/plain": [
       "       StoreNumber  dayOfTheYear  3HourBucket  GrossSoldQuantity  Day of week\n",
       "count  5660.000000   5660.000000  5660.000000        5660.000000  5660.000000\n",
       "mean   2500.706714    181.631449     2.504240          22.690989     4.007774\n",
       "std    1118.132545    104.530966     1.115276          22.281150     1.992017\n",
       "min    1000.000000      1.000000     1.000000           0.000000     1.000000\n",
       "25%    2000.000000     91.000000     2.000000           5.000000     2.000000\n",
       "50%    2500.000000    181.000000     3.000000          13.000000     4.000000\n",
       "75%    4000.000000    272.000000     3.000000          36.000000     6.000000\n",
       "max    4000.000000    363.000000     4.000000         184.000000     7.000000"
      ]
     },
     "execution_count": 110,
     "metadata": {},
     "output_type": "execute_result"
    }
   ],
   "source": [
    "df.describe()"
   ]
  },
  {
   "cell_type": "code",
   "execution_count": 111,
   "metadata": {},
   "outputs": [
    {
     "name": "stdout",
     "output_type": "stream",
     "text": [
      "Have Food Service:  84900\n",
      "No Food Service:  0\n"
     ]
    }
   ],
   "source": [
    "#Find parameters that matter\n",
    "\n",
    "#All have Food service\n",
    "print(\"Have Food Service: \", df[df[\"Food Service\"]==True].size)\n",
    "print(\"No Food Service: \", df[df[\"Food Service\"]==False].size)"
   ]
  },
  {
   "cell_type": "code",
   "execution_count": 81,
   "metadata": {},
   "outputs": [
    {
     "name": "stdout",
     "output_type": "stream",
     "text": [
      "Have Carwash:  39620\n",
      "No Carwash:  39620\n"
     ]
    }
   ],
   "source": [
    "#Half have Car Wash\n",
    "print(\"Have Carwash: \", df[df[\"Carwash\"]==True].size)\n",
    "print(\"No Carwash: \", df[df[\"Carwash\"]==False].size)"
   ]
  },
  {
   "cell_type": "code",
   "execution_count": 84,
   "metadata": {},
   "outputs": [
    {
     "name": "stdout",
     "output_type": "stream",
     "text": [
      "Have Alcohol:  39564\n",
      "No Alcohol:  39676\n"
     ]
    }
   ],
   "source": [
    "#About half have Alcohol\n",
    "print(\"Have Alcohol: \", df[df[\"Alcohol\"]==True].size)\n",
    "print(\"No Alcohol: \", df[df[\"Alcohol\"]==False].size)"
   ]
  },
  {
   "cell_type": "code",
   "execution_count": 86,
   "metadata": {},
   "outputs": [
    {
     "name": "stdout",
     "output_type": "stream",
     "text": [
      "In Texas:  0\n",
      "Not Texas:  79240\n"
     ]
    }
   ],
   "source": [
    "#All in Texas\n",
    "print(\"In Texas: \", df[df[\"State\"]==\"Tx\"].size)\n",
    "print(\"Not Texas: \", df[df[\"State\"]!=\"Tx\"].size)"
   ]
  },
  {
   "cell_type": "code",
   "execution_count": 88,
   "metadata": {},
   "outputs": [
    {
     "name": "stdout",
     "output_type": "stream",
     "text": [
      "CoBrand:  0\n",
      "Not CoBrand:  79240\n"
     ]
    }
   ],
   "source": [
    "#None are CoBrand\n",
    "print(\"CoBrand: \", df[df[\"CoBrand\"]==\"Yes\"].size)\n",
    "print(\"Not CoBrand: \", df[df[\"CoBrand\"]==\"No\"].size)"
   ]
  },
  {
   "cell_type": "code",
   "execution_count": 89,
   "metadata": {},
   "outputs": [
    {
     "name": "stdout",
     "output_type": "stream",
     "text": [
      "ExtraMile Site:  79240\n",
      "Not ExtraMile Site:  0\n"
     ]
    }
   ],
   "source": [
    "#All are ExtraMile Site\n",
    "print(\"ExtraMile Site: \", df[df[\"ExtraMile Site\"]==True].size)\n",
    "print(\"Not ExtraMile Site: \", df[df[\"ExtraMile Site\"]==False].size)"
   ]
  },
  {
   "cell_type": "code",
   "execution_count": 90,
   "metadata": {},
   "outputs": [
    {
     "name": "stdout",
     "output_type": "stream",
     "text": [
      "Loyalty Site:  79240\n",
      "Not Loyalty Site:  0\n"
     ]
    }
   ],
   "source": [
    "#All are Loyalty Site\n",
    "print(\"Loyalty Site: \", df[df[\"Loyalty Site\"]==True].size)\n",
    "print(\"Not Loyalty Site: \", df[df[\"Loyalty Site\"]==False].size)"
   ]
  },
  {
   "cell_type": "code",
   "execution_count": 91,
   "metadata": {},
   "outputs": [
    {
     "name": "stdout",
     "output_type": "stream",
     "text": [
      "EBT Site:  39564\n",
      "Not EBT Site:  39676\n"
     ]
    }
   ],
   "source": [
    "#Half are EBT Site\n",
    "print(\"EBT Site: \", df[df[\"EBT Site\"]==True].size)\n",
    "print(\"Not EBT Site: \", df[df[\"EBT Site\"]==False].size)"
   ]
  },
  {
   "cell_type": "code",
   "execution_count": 92,
   "metadata": {},
   "outputs": [
    {
     "name": "stdout",
     "output_type": "stream",
     "text": [
      "Cash/Credit Site:  0\n",
      "Not Cash/Credit Site:  79240\n"
     ]
    }
   ],
   "source": [
    "#None are Cash/Credit Site\n",
    "print(\"Cash/Credit Site: \", df[df[\"Cash/Credit Site\"]==True].size)\n",
    "print(\"Not Cash/Credit Site: \", df[df[\"Cash/Credit Site\"]==False].size)"
   ]
  },
  {
   "cell_type": "code",
   "execution_count": 102,
   "metadata": {},
   "outputs": [
    {
     "name": "stdout",
     "output_type": "stream",
     "text": [
      "Houston:  19782\n",
      "Austin:  19838\n",
      "College Station:  19782\n",
      "San Antonio:  19838\n",
      "Total:  79240 79240\n"
     ]
    }
   ],
   "source": [
    "#Cities: ABout even split between houston, austin, college_station, san_antonio\n",
    "houston = df[df[\"City\"]==\"HOUSTON\"]\n",
    "austin = df[df[\"City\"]==\"AUSTIN\"]\n",
    "college_station = df[df[\"City\"]==\"COLLEGE STATION\"]\n",
    "san_antonio = df[df[\"City\"]==\"SAN ANTONiO\"]\n",
    "\n",
    "print(\"Houston: \", houston.size)\n",
    "print(\"Austin: \", austin.size)\n",
    "print(\"College Station: \", college_station.size)\n",
    "print(\"San Antonio: \", san_antonio.size)\n",
    "\n",
    "print(\"Total: \", houston.size + austin.size + college_station.size + san_antonio.size, df.size)"
   ]
  },
  {
   "cell_type": "code",
   "execution_count": 103,
   "metadata": {},
   "outputs": [
    {
     "ename": "SyntaxError",
     "evalue": "invalid syntax (<ipython-input-103-1482f5334d8c>, line 1)",
     "output_type": "error",
     "traceback": [
      "\u001b[0;36m  File \u001b[0;32m\"<ipython-input-103-1482f5334d8c>\"\u001b[0;36m, line \u001b[0;32m1\u001b[0m\n\u001b[0;31m    Summary:\u001b[0m\n\u001b[0m             ^\u001b[0m\n\u001b[0;31mSyntaxError\u001b[0m\u001b[0;31m:\u001b[0m invalid syntax\n"
     ]
    }
   ],
   "source": [
    "# Summary: \n",
    "#     1. All have Food service\n",
    "#     2. All in Texas\n",
    "#     3. All are ExtraMile Site\n",
    "#     4. All are Loyalty Site\n",
    "#     5. All are not CoBrand\n",
    "#     6. All are not Cash/Credit Site\n",
    "#     7. Half are EBT Site\n",
    "#     8. Half have Car Wash\n",
    "#     9. Half have Alcohol\n",
    "#     10. Cities: ABout even split between houston, austin, college_station, san_antonio"
   ]
  },
  {
   "cell_type": "code",
   "execution_count": null,
   "metadata": {},
   "outputs": [],
   "source": [
    "\n"
   ]
  }
 ],
 "metadata": {
  "kernelspec": {
   "display_name": "Python 3",
   "language": "python",
   "name": "python3"
  },
  "language_info": {
   "codemirror_mode": {
    "name": "ipython",
    "version": 3
   },
   "file_extension": ".py",
   "mimetype": "text/x-python",
   "name": "python",
   "nbconvert_exporter": "python",
   "pygments_lexer": "ipython3",
   "version": "3.7.7"
  }
 },
 "nbformat": 4,
 "nbformat_minor": 4
}

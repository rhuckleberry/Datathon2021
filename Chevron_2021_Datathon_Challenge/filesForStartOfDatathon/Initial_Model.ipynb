{
 "cells": [
  {
   "cell_type": "code",
   "execution_count": 108,
   "metadata": {},
   "outputs": [],
   "source": [
    "import pandas as pd\n",
    "import numpy\n",
    "import scipy\n",
    "from sklearn.linear_model import LinearRegression\n",
    "import matplotlib.pyplot as plt"
   ]
  },
  {
   "cell_type": "code",
   "execution_count": 109,
   "metadata": {},
   "outputs": [],
   "source": [
    "df = pd.read_csv(\"./training.csv\")"
   ]
  },
  {
   "cell_type": "code",
   "execution_count": 110,
   "metadata": {},
   "outputs": [],
   "source": [
    "#Add weeks\n",
    "df[\"dayOfWeek\"] = df[\"dayOfTheYear\"]%7 + 1"
   ]
  },
  {
   "cell_type": "code",
   "execution_count": 111,
   "metadata": {},
   "outputs": [],
   "source": [
    "#Remove outlier days: 184, 185\n",
    "df = df[df[\"dayOfTheYear\"] != 184]\n",
    "df = df[df[\"dayOfTheYear\"] != 185]"
   ]
  },
  {
   "cell_type": "code",
   "execution_count": 112,
   "metadata": {},
   "outputs": [],
   "source": [
    "# Drop columns bc it is the same for all of our data \n",
    "x_data = df.drop(columns=['Food Service', 'State', 'Loyalty Site', 'ExtraMile Site', 'Cash/Credit Site', 'CoBrand', 'City'])"
   ]
  },
  {
   "cell_type": "code",
   "execution_count": 113,
   "metadata": {},
   "outputs": [],
   "source": [
    "y_data = df['GrossSoldQuantity'].to_frame()"
   ]
  },
  {
   "cell_type": "code",
   "execution_count": 114,
   "metadata": {
    "scrolled": true
   },
   "outputs": [],
   "source": [
    "x_data = x_data.drop(columns=['GrossSoldQuantity'])"
   ]
  },
  {
   "cell_type": "code",
   "execution_count": 115,
   "metadata": {
    "scrolled": true
   },
   "outputs": [],
   "source": [
    "#x_data['City'] = x_data['City'].astype('int32')\n",
    "#x_data.dtypes"
   ]
  },
  {
   "cell_type": "code",
   "execution_count": 116,
   "metadata": {},
   "outputs": [],
   "source": [
    "from sklearn.model_selection import train_test_split\n",
    "x_train, x_validation, y_train, y_validation = train_test_split(x_data, y_data, \n",
    "                                                    test_size=0.2, random_state=101)"
   ]
  },
  {
   "cell_type": "code",
   "execution_count": 117,
   "metadata": {},
   "outputs": [],
   "source": [
    "from sklearn.ensemble import RandomForestRegressor"
   ]
  },
  {
   "cell_type": "code",
   "execution_count": 118,
   "metadata": {},
   "outputs": [
    {
     "data": {
      "text/plain": [
       "StoreNumber     int64\n",
       "dayOfTheYear    int64\n",
       "3HourBucket     int64\n",
       "EBT Site         bool\n",
       "Alcohol          bool\n",
       "Carwash          bool\n",
       "dayOfWeek       int64\n",
       "dtype: object"
      ]
     },
     "execution_count": 118,
     "metadata": {},
     "output_type": "execute_result"
    }
   ],
   "source": [
    "x_train.dtypes"
   ]
  },
  {
   "cell_type": "code",
   "execution_count": 121,
   "metadata": {},
   "outputs": [
    {
     "name": "stderr",
     "output_type": "stream",
     "text": [
      "C:\\Users\\patty\\anaconda3\\lib\\site-packages\\ipykernel_launcher.py:3: DataConversionWarning: A column-vector y was passed when a 1d array was expected. Please change the shape of y to (n_samples,), for example using ravel().\n",
      "  This is separate from the ipykernel package so we can avoid doing imports until\n"
     ]
    },
    {
     "name": "stdout",
     "output_type": "stream",
     "text": [
      "R^2 Training Score: 0.80\n",
      "OOB Score: 0.78\n",
      "Validation Score: 0.77\n"
     ]
    }
   ],
   "source": [
    "rf = RandomForestRegressor(n_estimators=100, max_features='sqrt', max_depth=7, n_jobs=None,\n",
    "                           bootstrap=True, oob_score=True, random_state=101)\n",
    "model = rf.fit(x_train, y_train) #maybe I need to flatten everything\n",
    "print('R^2 Training Score: {:.2f}'.format(rf.score(x_train, y_train)))\n",
    "print('OOB Score: {:.2f}'.format(rf.oob_score_))\n",
    "print('Validation Score: {:.2f}'.format(rf.score(x_validation, y_validation)))"
   ]
  },
  {
   "cell_type": "code",
   "execution_count": 122,
   "metadata": {},
   "outputs": [
    {
     "name": "stderr",
     "output_type": "stream",
     "text": [
      "C:\\Users\\patty\\anaconda3\\lib\\site-packages\\ipykernel_launcher.py:3: DataConversionWarning: A column-vector y was passed when a 1d array was expected. Please change the shape of y to (n_samples,), for example using ravel().\n",
      "  This is separate from the ipykernel package so we can avoid doing imports until\n"
     ]
    },
    {
     "name": "stdout",
     "output_type": "stream",
     "text": [
      "R^2 Training Score: 0.80\n",
      "OOB Score: 0.78\n",
      "Validation Score: 0.77\n"
     ]
    }
   ],
   "source": [
    "rf = RandomForestRegressor(n_estimators=400, max_features='sqrt', max_depth=7, n_jobs=None,\n",
    "                           bootstrap=True, oob_score=True, random_state=101)\n",
    "model = rf.fit(x_train, y_train) #maybe I need to flatten everything\n",
    "print('R^2 Training Score: {:.2f}'.format(rf.score(x_train, y_train)))\n",
    "print('OOB Score: {:.2f}'.format(rf.oob_score_))\n",
    "print('Validation Score: {:.2f}'.format(rf.score(x_validation, y_validation)))"
   ]
  },
  {
   "cell_type": "code",
   "execution_count": null,
   "metadata": {},
   "outputs": [],
   "source": []
  }
 ],
 "metadata": {
  "kernelspec": {
   "display_name": "Python 3",
   "language": "python",
   "name": "python3"
  },
  "language_info": {
   "codemirror_mode": {
    "name": "ipython",
    "version": 3
   },
   "file_extension": ".py",
   "mimetype": "text/x-python",
   "name": "python",
   "nbconvert_exporter": "python",
   "pygments_lexer": "ipython3",
   "version": "3.7.6"
  }
 },
 "nbformat": 4,
 "nbformat_minor": 4
}

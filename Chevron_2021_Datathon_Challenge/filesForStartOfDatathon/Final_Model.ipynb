{
 "cells": [
  {
   "cell_type": "code",
   "execution_count": 9,
   "metadata": {},
   "outputs": [],
   "source": [
    "import pandas as pd\n",
    "import numpy as np\n",
    "import scipy\n",
    "from sklearn.ensemble import RandomForestRegressor\n",
    "from sklearn.model_selection import train_test_split\n",
    "import matplotlib.pyplot as plt"
   ]
  },
  {
   "cell_type": "code",
   "execution_count": 10,
   "metadata": {},
   "outputs": [],
   "source": [
    "df = pd.read_csv(\"./training.csv\")"
   ]
  },
  {
   "cell_type": "code",
   "execution_count": 11,
   "metadata": {},
   "outputs": [],
   "source": [
    "#Add weeks\n",
    "df[\"dayOfWeek\"] = df[\"dayOfTheYear\"]%7 + 1"
   ]
  },
  {
   "cell_type": "code",
   "execution_count": 12,
   "metadata": {},
   "outputs": [],
   "source": [
    "def determine_season(x):\n",
    "    if(79<= x and x <= 171):\n",
    "        #spring\n",
    "        return 1;\n",
    "    elif(172 <= x and x <= 265):\n",
    "        return 2;\n",
    "    elif(265 <= x and x <= 358):\n",
    "        return 3;\n",
    "    else:\n",
    "        return 4;\n",
    "\n",
    "#Add Astronomical Seasons\n",
    "df[\"season\"] = df[\"dayOfTheYear\"].apply(lambda x: determine_season(x))"
   ]
  },
  {
   "cell_type": "code",
   "execution_count": 13,
   "metadata": {},
   "outputs": [],
   "source": [
    "#Remove outlier days: 184, 185\n",
    "df = df[df[\"dayOfTheYear\"] != 184]\n",
    "df = df[df[\"dayOfTheYear\"] != 185]"
   ]
  },
  {
   "cell_type": "code",
   "execution_count": 14,
   "metadata": {},
   "outputs": [],
   "source": [
    "#remove unhelpful data - all data has same value\n",
    "df = df.drop(columns=['Food Service', 'State', 'Loyalty Site', 'ExtraMile Site', 'Cash/Credit Site', 'CoBrand'])\n",
    "\n",
    "#remove data - map exactly to store number\n",
    "df = df.drop(columns=['EBT Site', 'Alcohol', 'Carwash', 'City'])"
   ]
  },
  {
   "cell_type": "code",
   "execution_count": 15,
   "metadata": {},
   "outputs": [],
   "source": [
    "def rootMSE(actual, pred):\n",
    "    return np.sqrt(((pred - actual) ** 2).mean())"
   ]
  },
  {
   "cell_type": "code",
   "execution_count": 16,
   "metadata": {},
   "outputs": [
    {
     "name": "stdout",
     "output_type": "stream",
     "text": [
      "R^2 Training Score: 0.86\n",
      "OOB Score: 0.81\n",
      "Validation Score: 0.80\n",
      "9.856744767251993\n"
     ]
    }
   ],
   "source": [
    "#Model Training\n",
    "\n",
    "x = df.drop(columns=['GrossSoldQuantity'])\n",
    "y = df[\"GrossSoldQuantity\"]\n",
    "x_train, x_validation, y_train, y_validation = train_test_split(x, y, test_size=0.2, random_state=101)\n",
    "x_train.dtypes\n",
    "rf = RandomForestRegressor(n_estimators=100, max_features='sqrt', max_depth=10, n_jobs=None,\n",
    "                           bootstrap=True, oob_score=True, random_state=101)\n",
    "model = rf.fit(x_train, y_train) \n",
    "print('R^2 Training Score: {:.2f}'.format(rf.score(x_train, y_train)))\n",
    "print('OOB Score: {:.2f}'.format(rf.oob_score_))\n",
    "print('Validation Score: {:.2f}'.format(rf.score(x_validation, y_validation)))\n",
    "\n",
    "y_pred = model.predict(x_validation)\n",
    "rounded_pred = np.rint(y_pred)\n",
    "\n",
    "print(rootMSE(y_validation, rounded_pred))"
   ]
  },
  {
   "cell_type": "code",
   "execution_count": 17,
   "metadata": {},
   "outputs": [
    {
     "name": "stdout",
     "output_type": "stream",
     "text": [
      "0      0\n",
      "1      3\n",
      "2      4\n",
      "3      1\n",
      "4      9\n",
      "5      9\n",
      "6      3\n",
      "7      6\n",
      "8      1\n",
      "9      2\n",
      "10     1\n",
      "11     2\n",
      "12     1\n",
      "13     1\n",
      "14     7\n",
      "15     3\n",
      "16     0\n",
      "17     1\n",
      "18     1\n",
      "19     2\n",
      "20     1\n",
      "21     2\n",
      "22     4\n",
      "23     7\n",
      "24     6\n",
      "25    11\n",
      "26    30\n",
      "27    24\n",
      "28    12\n",
      "29    16\n",
      "30    18\n",
      "31    37\n",
      "Name: GrossSoldQuantity, dtype: int64\n",
      "[ 2.  5.  4.  6.  5.  7.  6.  8.  3.  4.  4.  5.  5.  6.  6.  7.  3.  5.\n",
      "  4.  4.  4.  6.  5.  5. 14. 21. 25. 34. 15. 22. 25. 40.]\n",
      "4.366062299143245\n"
     ]
    }
   ],
   "source": [
    "#test results\n",
    "test = pd.read_csv(\"/Users/rhuck/Documents/Datathon2021/Chevron_2021_Datathon_Challenge/filesFor30MinBeforeJudging/scoring.csv\")\n",
    "\n",
    "#remove unhelpful data - all data has same value\n",
    "test = test.drop(columns=['Food Service', 'State', 'Loyalty Site', 'ExtraMile Site', 'Cash/Credit Site', 'CoBrand'])\n",
    "\n",
    "#remove data - map exactly to store number\n",
    "test = test.drop(columns=['EBT Site', 'Alcohol', 'Carwash', 'City'])\n",
    "\n",
    "#Add weeks\n",
    "test[\"dayOfWeek\"] = test[\"dayOfTheYear\"]%7 + 1\n",
    "\n",
    "#Add Astronomical Seasons\n",
    "test[\"season\"] = test[\"dayOfTheYear\"].apply(lambda x: determine_season(x))\n",
    "\n",
    "x_test = test.drop(columns=[\"GrossSoldQuantity\"])\n",
    "y_test = test[\"GrossSoldQuantity\"]\n",
    "\n",
    "y_test_pred = model.predict(x_test)\n",
    "rounded_test_pred = np.rint(y_test_pred)\n",
    "\n",
    "print(y_test)\n",
    "print(rounded_test_pred)\n",
    "\n",
    "print(rootMSE(y_test, rounded_test_pred))"
   ]
  },
  {
   "cell_type": "code",
   "execution_count": null,
   "metadata": {},
   "outputs": [],
   "source": []
  }
 ],
 "metadata": {
  "kernelspec": {
   "display_name": "Python 3",
   "language": "python",
   "name": "python3"
  },
  "language_info": {
   "codemirror_mode": {
    "name": "ipython",
    "version": 3
   },
   "file_extension": ".py",
   "mimetype": "text/x-python",
   "name": "python",
   "nbconvert_exporter": "python",
   "pygments_lexer": "ipython3",
   "version": "3.7.7"
  }
 },
 "nbformat": 4,
 "nbformat_minor": 4
}

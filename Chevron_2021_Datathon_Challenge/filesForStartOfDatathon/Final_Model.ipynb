{
 "cells": [
  {
   "cell_type": "code",
   "execution_count": 38,
   "metadata": {},
   "outputs": [],
   "source": [
    "import pandas as pd\n",
    "import numpy as np\n",
    "import scipy\n",
    "from sklearn.ensemble import RandomForestRegressor\n",
    "from sklearn.model_selection import train_test_split\n",
    "import matplotlib.pyplot as plt"
   ]
  },
  {
   "cell_type": "code",
   "execution_count": 39,
   "metadata": {},
   "outputs": [],
   "source": [
    "df = pd.read_csv(\"./training.csv\")"
   ]
  },
  {
   "cell_type": "code",
   "execution_count": 40,
   "metadata": {},
   "outputs": [],
   "source": [
    "#Add weeks\n",
    "df[\"dayOfWeek\"] = df[\"dayOfTheYear\"]%7 + 1"
   ]
  },
  {
   "cell_type": "code",
   "execution_count": 41,
   "metadata": {},
   "outputs": [],
   "source": [
    "def determine_season(x):\n",
    "    if(79<= x and x <= 171):\n",
    "        #spring\n",
    "        return 1;\n",
    "    elif(172 <= x and x <= 265):\n",
    "        return 2;\n",
    "    elif(265 <= x and x <= 358):\n",
    "        return 3;\n",
    "    else:\n",
    "        return 4;\n",
    "\n",
    "#Add Astronomical Seasons\n",
    "df[\"season\"] = df[\"dayOfTheYear\"].apply(lambda x: determine_season(x))"
   ]
  },
  {
   "cell_type": "code",
   "execution_count": 42,
   "metadata": {},
   "outputs": [],
   "source": [
    "#Remove outlier days: 184, 185\n",
    "df = df[df[\"dayOfTheYear\"] != 184]\n",
    "df = df[df[\"dayOfTheYear\"] != 185]"
   ]
  },
  {
   "cell_type": "code",
   "execution_count": 43,
   "metadata": {},
   "outputs": [],
   "source": [
    "#remove unhelpful data - all data has same value\n",
    "df = df.drop(columns=['Food Service', 'State', 'Loyalty Site', 'ExtraMile Site', 'Cash/Credit Site', 'CoBrand'])\n",
    "\n",
    "#remove data - map exactly to store number\n",
    "df = df.drop(columns=['EBT Site', 'Alcohol', 'Carwash', 'City'])"
   ]
  },
  {
   "cell_type": "code",
   "execution_count": 44,
   "metadata": {},
   "outputs": [],
   "source": [
    "def rootMSE(actual, pred):\n",
    "    return np.sqrt(((pred - actual) ** 2).mean())"
   ]
  },
  {
   "cell_type": "code",
   "execution_count": 45,
   "metadata": {},
   "outputs": [
    {
     "name": "stdout",
     "output_type": "stream",
     "text": [
      "R^2 Training Score: 0.87\n",
      "OOB Score: 0.81\n",
      "Validation Score: 0.80\n",
      "9.67087146458617\n"
     ]
    }
   ],
   "source": [
    "#Model Training\n",
    "\n",
    "x = df.drop(columns=['GrossSoldQuantity'])\n",
    "y = df[\"GrossSoldQuantity\"]\n",
    "x_train, x_validation, y_train, y_validation = train_test_split(x, y, test_size=0.3, random_state=101)\n",
    "x_train.dtypes\n",
    "rf = RandomForestRegressor(n_estimators=100, max_features='sqrt', max_depth=10, n_jobs=None,\n",
    "                           bootstrap=True, oob_score=True, random_state=101)\n",
    "model = rf.fit(x_train, y_train) \n",
    "print('R^2 Training Score: {:.2f}'.format(rf.score(x_train, y_train)))\n",
    "print('OOB Score: {:.2f}'.format(rf.oob_score_))\n",
    "print('Validation Score: {:.2f}'.format(rf.score(x_validation, y_validation)))\n",
    "\n",
    "y_pred = model.predict(x_validation)\n",
    "rounded_pred = np.rint(y_pred)\n",
    "\n",
    "print(rootMSE(y_validation, rounded_pred))"
   ]
  },
  {
   "cell_type": "code",
   "execution_count": 46,
   "metadata": {},
   "outputs": [
    {
     "name": "stdout",
     "output_type": "stream",
     "text": [
      "3.86894688513554\n"
     ]
    }
   ],
   "source": [
    "#test results\n",
    "test = pd.read_csv(\"/Users/rhuck/Documents/Datathon2021/Chevron_2021_Datathon_Challenge/filesFor30MinBeforeJudging/scoring.csv\")\n",
    "\n",
    "#remove unhelpful data - all data has same value\n",
    "test = test.drop(columns=['Food Service', 'State', 'Loyalty Site', 'ExtraMile Site', 'Cash/Credit Site', 'CoBrand'])\n",
    "\n",
    "#remove data - map exactly to store number\n",
    "test = test.drop(columns=['EBT Site', 'Alcohol', 'Carwash', 'City'])\n",
    "\n",
    "#Add weeks\n",
    "test[\"dayOfWeek\"] = test[\"dayOfTheYear\"]%7 + 1\n",
    "\n",
    "#Add Astronomical Seasons\n",
    "test[\"season\"] = test[\"dayOfTheYear\"].apply(lambda x: determine_season(x))\n",
    "\n",
    "x_test = test.drop(columns=[\"GrossSoldQuantity\"])\n",
    "y_test = test[\"GrossSoldQuantity\"]\n",
    "\n",
    "y_test_pred = model.predict(x_test)\n",
    "rounded_test_pred = np.rint(y_test_pred)\n",
    "\n",
    "# print(y_test)\n",
    "# print(rounded_test_pred)\n",
    "\n",
    "print(rootMSE(y_test, rounded_test_pred))"
   ]
  },
  {
   "cell_type": "code",
   "execution_count": null,
   "metadata": {},
   "outputs": [],
   "source": []
  }
 ],
 "metadata": {
  "kernelspec": {
   "display_name": "Python 3",
   "language": "python",
   "name": "python3"
  },
  "language_info": {
   "codemirror_mode": {
    "name": "ipython",
    "version": 3
   },
   "file_extension": ".py",
   "mimetype": "text/x-python",
   "name": "python",
   "nbconvert_exporter": "python",
   "pygments_lexer": "ipython3",
   "version": "3.7.7"
  }
 },
 "nbformat": 4,
 "nbformat_minor": 4
}
